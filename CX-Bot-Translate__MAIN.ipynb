{
 "cells": [
  {
   "cell_type": "markdown",
   "id": "205f70b5",
   "metadata": {},
   "source": [
    "    Copyright 2021 Google LLC\n",
    "\n",
    "    Licensed under the Apache License, Version 2.0 (the \"License\");\n",
    "    you may not use this file except in compliance with the License.\n",
    "    You may obtain a copy of the License at\n",
    "\n",
    "        https://www.apache.org/licenses/LICENSE-2.0\n",
    "\n",
    "    Unless required by applicable law or agreed to in writing, software\n",
    "    distributed under the License is distributed on an \"AS IS\" BASIS,\n",
    "    WITHOUT WARRANTIES OR CONDITIONS OF ANY KIND, either express or implied.\n",
    "    See the License for the specific language governing permissions and\n",
    "    limitations under the License.\n"
   ]
  },
  {
   "cell_type": "markdown",
   "id": "86cd2642",
   "metadata": {
    "heading_collapsed": true,
    "jp-MarkdownHeadingCollapsed": true,
    "tags": []
   },
   "source": [
    "# Dialogflow CX Bot Language Translation (MAIN)\n",
    "\n",
    "## Pre-requsite: YOU have read the README.md\n",
    "1. Initial setup and initializations\n",
    "2. Run the sub-notebooks as required with editable cells to modify the standard flow\n",
    "\n",
    "The standard flow:\n",
    "1. Setup blank Google Sheets\n",
    "2. Query CX Agent for existing configuration (Default and Supported Languages)\n",
    "3. Scan and Write CX Agent components that contains text into respective tabs in Google Sheets:\n",
    "   - Intents, \n",
    "   - Entity Types\n",
    "   - Flows\n",
    "   - Pages\n",
    "   - Route Groups\n",
    "4. Cloud Translate all texts from Default Language to Target (Supported) Language/s as defined in the CX Agent\n",
    "5. Apply translated text back into CX Agent"
   ]
  },
  {
   "cell_type": "markdown",
   "id": "81041ec6",
   "metadata": {},
   "source": [
    "# PROVIDE Required Information in the cell below:"
   ]
  },
  {
   "cell_type": "code",
   "execution_count": null,
   "id": "77d3dd10",
   "metadata": {},
   "outputs": [],
   "source": [
    "# (MANDATORY) Provide the full URL to target Sheets and CX Agent\n",
    "Google_Sheets_URL = 'https://docs.google.com/spreadsheets/.........'\n",
    "CX_Agent_URL = 'https://dialogflow.cloud.google.com/cx/projects/.........'\n",
    "\n",
    "# To access Google Sheets and Dialogflow CX, authorization is required.\n",
    "# If you have NOT setup Google Sheets OAuth on this system (\"credentials.json\" and/or \"token.json\"), \n",
    "#  you have to explicitly specify a Sheets Service Account Key JSON file\n",
    "#\n",
    "# If you have NOT setup Google Cloud SDK OAuth to the CX Agent, you will need to specify a Dialogflow CX Service Account Key JSON file\n",
    "# If filename strings are empty, we assume the Google Cloud SDK OAuth & Google Sheets OAuth tokens are already setup\n",
    "\n",
    "GSheets_JSON  = '' #path/filename to JSON (optional)\n",
    "CX_Agent_JSON = '' #path/filename to JSON (optional)\n",
    "\n",
    "# (MANDATORY) GCP Project name with Cloud Translate API enabled\n",
    "Cloud_Translate_Project_ID = 'my-cloud-translation-gcp-project.........' \n"
   ]
  },
  {
   "cell_type": "markdown",
   "id": "a76aac37",
   "metadata": {},
   "source": [
    "### ipynb env:"
   ]
  },
  {
   "cell_type": "code",
   "execution_count": null,
   "id": "300bdbc3",
   "metadata": {
    "scrolled": true
   },
   "outputs": [],
   "source": [
    "!python3 -V\n",
    "#!python3 -m pip list | wc -l\n",
    "#!python3 -m pip list | grep google"
   ]
  },
  {
   "cell_type": "code",
   "execution_count": null,
   "id": "d4f1ce54",
   "metadata": {},
   "outputs": [],
   "source": [
    "from IPython.core.display import display, HTML\n",
    "display(HTML(\"<style>.container { width:80% !important; }</style>\"))"
   ]
  },
  {
   "cell_type": "markdown",
   "id": "d2d769cd",
   "metadata": {
    "heading_collapsed": true
   },
   "source": [
    "## Initial Setup, Verification & Validation"
   ]
  },
  {
   "cell_type": "markdown",
   "id": "cfd508d3",
   "metadata": {
    "hidden": true
   },
   "source": [
    "### Imports"
   ]
  },
  {
   "cell_type": "code",
   "execution_count": null,
   "id": "5c57855d",
   "metadata": {
    "hidden": true
   },
   "outputs": [],
   "source": [
    "import os\n",
    "from googleapiclient.discovery import build\n",
    "from google_auth_oauthlib.flow import InstalledAppFlow\n",
    "from google.auth.transport.requests import Request\n",
    "from google.oauth2.credentials import Credentials\n",
    "from google.oauth2 import service_account\n",
    "\n",
    "import google.cloud.dialogflowcx_v3beta1.services as cx_services\n",
    "import google.cloud.dialogflowcx_v3beta1.types as cx_types\n",
    "\n",
    "import pandas as pd\n",
    "import html\n",
    "import json\n",
    "import copy\n",
    "import time\n",
    "import bs4\n",
    "from pprint import pprint\n",
    "\n",
    "from google.cloud.translate_v3beta1.services.translation_service import TranslationServiceClient\n",
    "from google.cloud.translate_v3beta1.types.translation_service import TranslateTextRequest, TranslateTextResponse, Translation\n",
    "Cloud_Translate_Parent = f'projects/{Cloud_Translate_Project_ID}'\n",
    "translate_client = TranslationServiceClient()"
   ]
  },
  {
   "cell_type": "markdown",
   "id": "3fb3d67e",
   "metadata": {
    "hidden": true
   },
   "source": [
    "### Verification"
   ]
  },
  {
   "cell_type": "code",
   "execution_count": null,
   "id": "e519b9f0",
   "metadata": {
    "hidden": true
   },
   "outputs": [],
   "source": [
    "# Returns a list of all JSON (*.json) files in current directory \n",
    "def get_json_files():\n",
    "    json_files = []\n",
    "    for file in os.listdir('./'):\n",
    "        if file.endswith('.json'):\n",
    "            json_files.append(file)\n",
    "    return json_files\n",
    "\n",
    "def get_cx_id(agent_uri, before_str, after_str):\n",
    "    #strip from \"/\" + after_str\n",
    "    index = agent_uri.find('/'+after_str)\n",
    "    cx_id = agent_uri[:index]\n",
    "    #strip up to before_str + \"/\"\n",
    "    index = cx_id.find(before_str+'/') + len(before_str+'/')\n",
    "    cx_id = cx_id[index:]\n",
    "    #print(f\"def get_cx_id: cx_id=[{cx_id}]\")\n",
    "    return cx_id"
   ]
  },
  {
   "cell_type": "code",
   "execution_count": null,
   "id": "55872fa9",
   "metadata": {
    "hidden": true,
    "scrolled": false
   },
   "outputs": [],
   "source": [
    "#################################\n",
    "## Google Sheets and CX Agent URL\n",
    "#################################\n",
    "\n",
    "if len(Google_Sheets_URL) != 0 and len(CX_Agent_URL) != 0:\n",
    "    if not Google_Sheets_URL.startswith('https://docs.google.com/spreadsheets'):\n",
    "        raise Exception(f'Google_Sheets_URL: [{Google_Sheets_URL}] does not look right.  Please correct it before running this Notebook.')\n",
    "     \n",
    "    keywords = ['https://', 'dialogflow', 'cx/projects', 'locations', 'agents']\n",
    "    if not all(keyword in CX_Agent_URL for keyword in keywords):\n",
    "        raise Exception(f'CX_Agent_URL: [{CX_Agent_URL}] does not look right. The keywords {keywords} were not found.  Please correct it before running this Notebook.')\n",
    "        \n",
    "else:\n",
    "    raise Exception('Please review and provide the URLs for Google_Sheets_URL or CX_Agent_URL (or both) before running this Notebook')\n",
    "\n",
    "##############\n",
    "## OAuth JSONs\n",
    "##############\n",
    "\n",
    "# if both file names are provided, verify existence of file (if not, raise exception)\n",
    "# if GSheets JSON (provided or not), check existence\n",
    "# if CXAgent JSON (provide), check existence\n",
    "print(f'GSheets_JSON file: \"{GSheets_JSON}\"\\nCX_Agent_JSON file: \"{CX_Agent_JSON}\"\\n')\n",
    "print(f'INFO: JSON files found in directory: {get_json_files()}')\n",
    "\n",
    "if len(GSheets_JSON) != 0:\n",
    "    if not (os.path.isfile(GSheets_JSON)):\n",
    "        raise Exception(f'Exception: GSheets_JSON file \"{GSheets_JSON}\" does NOT exist!')\n",
    "else:\n",
    "    if not ( os.path.isfile('credentials.json') or os.path.isfile('token.json') ):\n",
    "        raise Exception(f'Exception: GSheets_JSON file is not specified BUT [credentials.json] and [token.json] files are NOT found!')\n",
    "\n",
    "if len(CX_Agent_JSON) != 0:\n",
    "    if not (os.path.isfile(CX_Agent_JSON)):\n",
    "        raise Exception(f'Exception: CX_Agent_JSON file \"{CX_Agent_JSON}\" does NOT exist!')\n",
    "else:\n",
    "    print('CX_Agent_JSON file is not specified and we assume Google Cloud SDK OAuth has been setup on this system.')\n"
   ]
  },
  {
   "cell_type": "markdown",
   "id": "35b62f76",
   "metadata": {
    "hidden": true
   },
   "source": [
    "### Global Variables & Functions"
   ]
  },
  {
   "cell_type": "code",
   "execution_count": null,
   "id": "8a1e84a4",
   "metadata": {
    "hidden": true,
    "scrolled": false
   },
   "outputs": [],
   "source": [
    "Google_Sheets_ID = Google_Sheets_URL[Google_Sheets_URL.find('spreadsheets/d/')+len('spreadsheets/d/'):]\n",
    "Google_Sheets_ID = Google_Sheets_ID[:Google_Sheets_ID.find('/')]\n",
    "print(f'Google_Sheets_URL: [{Google_Sheets_URL}]')\n",
    "print(f'Google_Sheets_ID:  [{Google_Sheets_ID}]')\n",
    "\n",
    "CX_Agent_Link = CX_Agent_URL[CX_Agent_URL.find('projects'):]\n",
    "print(f'CX_Agent_URL:  [{CX_Agent_URL}]')\n",
    "print(f'CX_Agent_Link: [{CX_Agent_Link}]')\n",
    "\n",
    "CX_Project_ID  = get_cx_id(CX_Agent_Link,'projects','locations')\n",
    "CX_Location_ID = get_cx_id(CX_Agent_Link,'locations','agents')\n",
    "print(f'CX_Project_ID:  [{CX_Project_ID}]')\n",
    "print(f'CX_Location_ID: [{CX_Location_ID}]')\n",
    "\n",
    "GSheets_Creds  = None\n",
    "GSheets_Scopes = ['https://www.googleapis.com/auth/spreadsheets']\n",
    "\n",
    "CX_Creds = None\n",
    "CX_Client_Options = None\n",
    "\n",
    "CX_Agent_Default_Lang = None\n",
    "CX_Agent_Supported_Langs = []\n",
    "Translate_Source_Lang = None\n",
    "\n",
    "__DEBUG = False\n",
    "__INFO  = True"
   ]
  },
  {
   "cell_type": "code",
   "execution_count": null,
   "id": "f155915a",
   "metadata": {
    "hidden": true
   },
   "outputs": [],
   "source": [
    "def get_cx_credentials():\n",
    "    global CX_Creds\n",
    "    global CX_Agent_JSON\n",
    "    if len(CX_Agent_JSON) == 0:\n",
    "        return None\n",
    "    elif CX_Creds is None:\n",
    "        CX_Creds = service_account.Credentials.from_service_account_file(CX_Agent_JSON)\n",
    "    return CX_Creds\n",
    "\n",
    "def get_cx_client_options():\n",
    "    global CX_Client_Options\n",
    "    if CX_Client_Options is None:\n",
    "        if CX_Location_ID != 'global':\n",
    "            # Reference: https://cloud.google.com/dialogflow/cx/docs/concept/region#api\n",
    "            api_endpoint= f'{CX_Location_ID}-dialogflow.googleapis.com:443'\n",
    "        else:\n",
    "            api_endpoint= 'dialogflow.googleapis.com:443'\n",
    "        CX_Client_Options = {'api_endpoint': api_endpoint}\n",
    "    return CX_Client_Options\n",
    "    \n",
    "def get_agent():\n",
    "    agents_client = cx_services.agents.AgentsClient(credentials=get_cx_credentials(), client_options=get_cx_client_options())\n",
    "    \n",
    "    agent_request = cx_types.GetAgentRequest()\n",
    "    agent_request.name = CX_Agent_Link\n",
    "    response = agents_client.get_agent(agent_request)\n",
    "    \n",
    "    return response"
   ]
  },
  {
   "cell_type": "code",
   "execution_count": null,
   "id": "f44cdbd6",
   "metadata": {
    "hidden": true
   },
   "outputs": [],
   "source": [
    "def get_cx_default_lang():\n",
    "    global CX_Agent_Default_Lang\n",
    "    if CX_Agent_Default_Lang == None:\n",
    "        agent = get_agent()\n",
    "        CX_Agent_Default_Lang = agent.default_language_code\n",
    "    return CX_Agent_Default_Lang\n",
    "    \n",
    "def get_cx_supported_langs():\n",
    "    global CX_Agent_Supported_Langs\n",
    "    if CX_Agent_Supported_Langs == []:\n",
    "        agent = get_agent()\n",
    "        CX_Agent_Supported_Langs = sorted(agent.supported_language_codes)\n",
    "    return CX_Agent_Supported_Langs\n",
    "\n",
    "def get_default_lang_for_translate():\n",
    "    global Translate_Source_Lang\n",
    "    if Translate_Source_Lang == None:\n",
    "        # get_cx_default_lang() and take letters before '-' (if any) for Translate API call\n",
    "        Translate_Source_Lang = get_cx_default_lang()\n",
    "        index = Translate_Source_Lang.find('-')\n",
    "        if index != -1:\n",
    "            Translate_Source_Lang = Translate_Source_Lang[:index]\n",
    "    return Translate_Source_Lang    \n",
    "    "
   ]
  },
  {
   "cell_type": "markdown",
   "id": "dff364ae",
   "metadata": {},
   "source": [
    "## Validation"
   ]
  },
  {
   "cell_type": "code",
   "execution_count": null,
   "id": "016462bd",
   "metadata": {},
   "outputs": [],
   "source": [
    "##############################################\n",
    "### Validation - Check if we can access Sheets\n",
    "##############################################\n",
    "\n",
    "if len(GSheets_JSON) != 0:\n",
    "    GSheets_Creds = service_account.Credentials.from_service_account_file(GSheets_JSON)\n",
    "else:\n",
    "    if os.path.exists('token.json'):\n",
    "        GSheets_Creds = Credentials.from_authorized_user_file('token.json', GSheets_Scopes)\n",
    "    # If there are no (valid) credentials available, let the user log in.\n",
    "    if not GSheets_Creds or not GSheets_Creds.valid:\n",
    "        if GSheets_Creds and GSheets_Creds.expired and GSheets_Creds.refresh_token:\n",
    "            GSheets_Creds.refresh(Request())\n",
    "        else:\n",
    "            flow = InstalledAppFlow.from_client_secrets_file('credentials.json', GSheets_Scopes)\n",
    "            GSheets_Creds = flow.run_local_server(port=0)\n",
    "        # Save the credentials for the next run\n",
    "        with open('token.json', 'w') as token:\n",
    "            token.write(GSheets_Creds.to_json())\n",
    "            \n",
    "try:\n",
    "    service = build('sheets', 'v4', credentials=GSheets_Creds)\n",
    "    sheets  = service.spreadsheets().get(spreadsheetId=Google_Sheets_ID).execute()\n",
    "    print(f'Validating Access to Sheets: \\nSUCCESS in accessing Google Sheets at ID:[{Google_Sheets_ID}] and URL:[{Google_Sheets_URL}].\\n')\n",
    "except Exception as e:\n",
    "    raise Exception(f'Validating Access to Sheets: \\nFAILED to access Google Sheets at ID:[{Google_Sheets_ID}] and URL:[{Google_Sheets_URL}]. See below:\\n{e}\\n')\n",
    "    \n",
    "################################################\n",
    "### Validation - Check if we can access CX Agent\n",
    "################################################\n",
    "try:\n",
    "    get_agent()\n",
    "    print(f'Validating Access to CX Agent: \\nSUCCESS in accessing CX Agent at LINK:[{CX_Agent_Link}] and URL:[{CX_Agent_URL}].\\n')\n",
    "except Exception as e:\n",
    "    raise Exception(f'Validating Access to CX Agent: \\nFAILED to access CX Agent at LINK:[{CX_Agent_Link}] and URL:[{CX_Agent_URL}]. See below:\\n{e}\\n')\n"
   ]
  },
  {
   "cell_type": "markdown",
   "id": "e87ec12a",
   "metadata": {},
   "source": [
    "# 1. Run / Execute below: \n"
   ]
  },
  {
   "cell_type": "markdown",
   "id": "31283d1c",
   "metadata": {},
   "source": [
    "## Run the [Sheets] Notebook and Setup Sheets\n",
    "### Select the cell below, from the Menu -> Cell -> \"Run All Above\"\n",
    "Only continue to run the cells below if all the cells above ran without errors or exceptions."
   ]
  },
  {
   "cell_type": "code",
   "execution_count": null,
   "id": "c8952ca4",
   "metadata": {
    "scrolled": true
   },
   "outputs": [],
   "source": [
    "%run CX-Bot-Translate_Sheets.ipynb"
   ]
  },
  {
   "cell_type": "code",
   "execution_count": null,
   "id": "8c11fd3a",
   "metadata": {},
   "outputs": [],
   "source": [
    "## initializes the Sheet (if empty)\n",
    "## otherwise, do nothing\n",
    "init_format_sheets()\n"
   ]
  },
  {
   "cell_type": "markdown",
   "id": "aa756fe0",
   "metadata": {},
   "source": [
    "## Run the [Agent] Notebook and Update Sheets"
   ]
  },
  {
   "cell_type": "code",
   "execution_count": null,
   "id": "0cec6963",
   "metadata": {
    "scrolled": true
   },
   "outputs": [],
   "source": [
    "%run CX-Bot-Translate_Agent.ipynb"
   ]
  },
  {
   "cell_type": "code",
   "execution_count": null,
   "id": "ef8d59d4",
   "metadata": {
    "scrolled": false
   },
   "outputs": [],
   "source": [
    "try:\n",
    "    write_intents_to_sheets()\n",
    "    write_entities_to_sheets()\n",
    "    write_flows_to_sheets()\n",
    "    write_pages_to_sheets() \n",
    "    write_route_groups_to_sheets()\n",
    "except Exception as e:\n",
    "    print(f'Exception:\\n{e}')"
   ]
  },
  {
   "cell_type": "markdown",
   "id": "5a4c1f4c",
   "metadata": {},
   "source": [
    "## Run the [Translation] Notebook and Translate Agent in Sheets"
   ]
  },
  {
   "cell_type": "code",
   "execution_count": null,
   "id": "3c91a1d6",
   "metadata": {},
   "outputs": [],
   "source": [
    "%run CX-Bot-Translate_Translation.ipynb"
   ]
  },
  {
   "cell_type": "code",
   "execution_count": null,
   "id": "e1c51d15",
   "metadata": {
    "scrolled": false
   },
   "outputs": [],
   "source": [
    "## Feel free to comment out CX components that does not need translation\n",
    "try:\n",
    "    translate_cx(SheetsName.Training_Phrases)\n",
    "    translate_cx(SheetsName.Entities)\n",
    "    translate_cx(SheetsName.Flows)\n",
    "    translate_cx(SheetsName.Pages)\n",
    "    translate_cx(SheetsName.Route_Groups)\n",
    "except Exception as e:\n",
    "    print(f'Exception:\\n{e}')"
   ]
  },
  {
   "cell_type": "markdown",
   "id": "89f2495b",
   "metadata": {},
   "source": [
    "## Update Translations in Sheets to Agent\n",
    "Run the cells below when you are satisfied with translations in Sheets and you are ready to apply it to Dialogflow CX"
   ]
  },
  {
   "cell_type": "code",
   "execution_count": null,
   "id": "c7d36198",
   "metadata": {
    "scrolled": true
   },
   "outputs": [],
   "source": [
    "## Feel free to comment out CX components that does not require updates from Sheets back to CX\n",
    "try:\n",
    "    update_all_intents()\n",
    "#     update_intents_by_lang('Chinese - Simplified')\n",
    "    update_all_entities()\n",
    "#     update_entities_by_lang('Tamil')\n",
    "    update_all_flows()\n",
    "#     update_flows_by_lang('Tamil')\n",
    "    update_all_pages()\n",
    "#     update_pages_by_lang('Chinese - Simplified')\n",
    "    update_all_route_groups()\n",
    "#     update_route_groups_by_lang('Tamil')\n",
    "except Exception as e:\n",
    "    print(f'Exception:\\n{e}')"
   ]
  },
  {
   "cell_type": "markdown",
   "id": "fa2d8b63",
   "metadata": {},
   "source": [
    "# END"
   ]
  }
 ],
 "metadata": {
  "kernelspec": {
   "display_name": "Python 3 (ipykernel)",
   "language": "python",
   "name": "python3"
  },
  "language_info": {
   "codemirror_mode": {
    "name": "ipython",
    "version": 3
   },
   "file_extension": ".py",
   "mimetype": "text/x-python",
   "name": "python",
   "nbconvert_exporter": "python",
   "pygments_lexer": "ipython3",
   "version": "3.7.3"
  },
  "toc": {
   "base_numbering": 1,
   "nav_menu": {},
   "number_sections": false,
   "sideBar": true,
   "skip_h1_title": false,
   "title_cell": "Table of Contents",
   "title_sidebar": "Contents",
   "toc_cell": false,
   "toc_position": {
    "height": "1133px",
    "left": "29px",
    "top": "110px",
    "width": "203.04px"
   },
   "toc_section_display": true,
   "toc_window_display": true
  },
  "varInspector": {
   "cols": {
    "lenName": 16,
    "lenType": 16,
    "lenVar": 40
   },
   "kernels_config": {
    "python": {
     "delete_cmd_postfix": "",
     "delete_cmd_prefix": "del ",
     "library": "var_list.py",
     "varRefreshCmd": "print(var_dic_list())"
    },
    "r": {
     "delete_cmd_postfix": ") ",
     "delete_cmd_prefix": "rm(",
     "library": "var_list.r",
     "varRefreshCmd": "cat(var_dic_list()) "
    }
   },
   "types_to_exclude": [
    "module",
    "function",
    "builtin_function_or_method",
    "instance",
    "_Feature"
   ],
   "window_display": false
  }
 },
 "nbformat": 4,
 "nbformat_minor": 5
}
