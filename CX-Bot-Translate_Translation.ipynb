{
 "cells": [
  {
   "cell_type": "markdown",
   "id": "ec09baec",
   "metadata": {},
   "source": [
    "    Copyright 2021 Google LLC\n",
    "\n",
    "    Licensed under the Apache License, Version 2.0 (the \"License\");\n",
    "    you may not use this file except in compliance with the License.\n",
    "    You may obtain a copy of the License at\n",
    "\n",
    "        https://www.apache.org/licenses/LICENSE-2.0\n",
    "\n",
    "    Unless required by applicable law or agreed to in writing, software\n",
    "    distributed under the License is distributed on an \"AS IS\" BASIS,\n",
    "    WITHOUT WARRANTIES OR CONDITIONS OF ANY KIND, either express or implied.\n",
    "    See the License for the specific language governing permissions and\n",
    "    limitations under the License.\n"
   ]
  },
  {
   "cell_type": "markdown",
   "id": "86cd2642",
   "metadata": {
    "jp-MarkdownHeadingCollapsed": true,
    "tags": []
   },
   "source": [
    "# Dialogflow CX Bot Language Translation (Translation Notebook)\n",
    "\n",
    "Contains functions that are re-used in the Main Notebook\n",
    "\n",
    "1. Functions for Translating texts\n",
    "2. Functions for CX component specific translations\n",
    "\n",
    "[Public Doc Link: Python Client for Cloud Translate](https://cloud.google.com/translate/docs/reference/libraries/v3/python)"
   ]
  },
  {
   "cell_type": "markdown",
   "id": "566fdba8",
   "metadata": {},
   "source": [
    "# Translation"
   ]
  },
  {
   "cell_type": "markdown",
   "id": "a53ff362",
   "metadata": {
    "heading_collapsed": true
   },
   "source": [
    "## This Notebook Env:"
   ]
  },
  {
   "cell_type": "code",
   "execution_count": null,
   "id": "9ddd8755",
   "metadata": {
    "hidden": true,
    "scrolled": true
   },
   "outputs": [],
   "source": [
    "# !python3 -V\n",
    "# !python3 -m pip list | wc -l\n",
    "# !python3 -m pip list | grep google"
   ]
  },
  {
   "cell_type": "code",
   "execution_count": null,
   "id": "d562187f",
   "metadata": {
    "hidden": true
   },
   "outputs": [],
   "source": [
    "from IPython.core.display import display, HTML\n",
    "display(HTML(\"<style>.container { width:80% !important; }</style>\"))"
   ]
  },
  {
   "cell_type": "markdown",
   "id": "82582761",
   "metadata": {
    "heading_collapsed": true
   },
   "source": [
    "## Google Translate & Vars"
   ]
  },
  {
   "cell_type": "code",
   "execution_count": null,
   "id": "1234e18f",
   "metadata": {
    "hidden": true
   },
   "outputs": [],
   "source": [
    "#  Google Cloud Translate\n",
    "\n",
    "# from google.cloud.translate_v3beta1.services.translation_service import TranslationServiceClient\n",
    "# from google.cloud.translate_v3beta1.types.translation_service import TranslateTextRequest, TranslateTextResponse, Translation\n",
    "# Cloud_Translate_Parent = ''\n",
    "# translate_client = TranslationServiceClient()"
   ]
  },
  {
   "cell_type": "markdown",
   "id": "c6a53c5b",
   "metadata": {
    "heading_collapsed": true
   },
   "source": [
    "## Functions: Helpers & Core Translation"
   ]
  },
  {
   "cell_type": "code",
   "execution_count": null,
   "id": "4978c725",
   "metadata": {
    "hidden": true
   },
   "outputs": [],
   "source": [
    "####################################\n",
    "def set_no_translate_markings(text):\n",
    "    return '<span translate=\"no\">' + text + '</span>'\n",
    "\n",
    "#####################################\n",
    "def eval_no_translate_markings(text):\n",
    "    index = text.find('$')\n",
    "    #print(f\"0: {index}\")\n",
    "    if index != -1:\n",
    "        hasMore = True\n",
    "        while (hasMore):\n",
    "            text = text[:index] + '<span translate=\"no\">' + text[index:]\n",
    "            index = text.find(' ', index+len('<span translate=\"no\">'))\n",
    "            if index == -1:\n",
    "                text = text + '</span>'\n",
    "            else:\n",
    "                text = text[:index] + '</span>' + text[index:]\n",
    "                index = text.find('$', index+len('</span>'))\n",
    "            hasMore = index != -1\n",
    "        return text\n",
    "    else:\n",
    "        return text\n",
    "    \n",
    "####################################\n",
    "def remove_translate_markings(text):\n",
    "    text = text.replace('<span translate=\"no\">','')\n",
    "    text = text.replace('</span>','')\n",
    "    return text\n",
    "\n",
    "##########################################################\n",
    "def translate(texts, source_lang, target_lang, mime_type):\n",
    "    if len(texts) == 0:\n",
    "        return []\n",
    "    \n",
    "    translated_list = []\n",
    "\n",
    "    ### According to https://cloud.google.com/translate/docs/reference/rest/v3beta1/projects/translateText#request-body\n",
    "    ### Translation limits at texts[] < 1024 and total < 30k chars/codepoints\n",
    "    ### - keep text_list within 1024 & also < 30k chars\n",
    "    ### - count chars\n",
    "    char_count = 0\n",
    "    for text in texts:\n",
    "        char_count += len(text)\n",
    "    if len(texts) > 1023 or char_count > 30000:\n",
    "        #limit exceeded, chop it up\n",
    "        new_texts = []\n",
    "        text_list = []\n",
    "        char_count = 0\n",
    "        list_count = 0\n",
    "        for text in texts:\n",
    "            char_count += len(text)\n",
    "            list_count += 1\n",
    "            if char_count > 30000 or list_count > 1023:\n",
    "                new_texts.append(text_list)\n",
    "                text_list = []\n",
    "                text_list.append(text)\n",
    "                char_count = len(text)\n",
    "                list_count = 1\n",
    "            else:\n",
    "                text_list.append(text)\n",
    "        new_texts.append(text_list)        \n",
    "        \n",
    "        for texts in new_texts:\n",
    "            req = TranslateTextRequest()\n",
    "            req.contents = texts\n",
    "            req.mime_type = mime_type\n",
    "            req.source_language_code = source_lang\n",
    "            req.target_language_code = target_lang\n",
    "            req.parent = Cloud_Translate_Parent\n",
    "            translations = translate_client.translate_text(req).translations\n",
    "            for translation in translations:\n",
    "                if mime_type == 'text/html':\n",
    "                    translated_list.append( [html.unescape( remove_translate_markings(translation.translated_text) )] )\n",
    "                else:\n",
    "                    translated_list.append([translation.translated_text])\n",
    "        return translated_list\n",
    "        \n",
    "    else: # did not exceed limit\n",
    "        req = TranslateTextRequest()\n",
    "        req.contents = texts\n",
    "        req.mime_type = mime_type\n",
    "        req.source_language_code = source_lang\n",
    "        req.target_language_code = target_lang\n",
    "        req.parent = Cloud_Translate_Parent\n",
    "        translations = translate_client.translate_text(req).translations\n",
    "        for translation in translations:\n",
    "            if mime_type == 'text/html':\n",
    "                translated_list.append( [html.unescape( remove_translate_markings(translation.translated_text) )] )\n",
    "            else:\n",
    "                translated_list.append([translation.translated_text])\n",
    "        return translated_list\n",
    "    "
   ]
  },
  {
   "cell_type": "markdown",
   "id": "4db51cad",
   "metadata": {
    "heading_collapsed": true
   },
   "source": [
    "## Translate CX Functions"
   ]
  },
  {
   "cell_type": "code",
   "execution_count": null,
   "id": "f637acc8",
   "metadata": {
    "hidden": true
   },
   "outputs": [],
   "source": [
    "##################################################\n",
    "def get_source_texts_for_translate(component, df):\n",
    "    if component == SheetsName.Training_Phrases:\n",
    "        source_lang_col = 2\n",
    "    elif component == SheetsName.Pages:\n",
    "        source_lang_col = 6\n",
    "    else: #Entities, Flows & Route_Groups\n",
    "        source_lang_col = 4\n",
    "\n",
    "    source_lang = df.iloc[1,source_lang_col] #for translate\n",
    "    print(f'translate_cx({component.name}): get_source_texts_for_translate({component.name},df) - Reading {len(df)} rows from Sheets')\n",
    "    row = 2\n",
    "    input_texts = []\n",
    "    while row < len(df):\n",
    "        if component == SheetsName.Training_Phrases or (component == SheetsName.Entities and df.iloc[row,2] == '1'):\n",
    "            input_texts.append(df.iloc[row, source_lang_col])\n",
    "        elif component == SheetsName.Entities and df.iloc[row,2] != '1':\n",
    "            input_texts.append( set_no_translate_markings(df.iloc[row, source_lang_col]) )\n",
    "        else: #Flows, Pages & Route_Groups\n",
    "            input_texts.append( eval_no_translate_markings(df.iloc[row, source_lang_col]) )\n",
    "        row += 1\n",
    "        \n",
    "    return input_texts\n",
    "\n",
    "################################################################################\n",
    "def translate_and_write_to_sheets(component, df, input_texts, target_lang, is_one_lang_only):\n",
    "    if component == SheetsName.Training_Phrases:\n",
    "        source_lang_col = 2\n",
    "        target_lang_starting_col = 3\n",
    "        mime_type = 'text/html'\n",
    "    elif component == SheetsName.Pages:\n",
    "        source_lang_col = 6\n",
    "        target_lang_starting_col = 7\n",
    "        mime_type = 'text/html'\n",
    "    else: #Entities, Flows & Route_Groups\n",
    "        source_lang_col = 4\n",
    "        target_lang_starting_col = 5\n",
    "        mime_type = 'text/html'\n",
    "    \n",
    "    source_lang = df.iloc[1,source_lang_col] #for translate\n",
    "    \n",
    "    if target_lang != None:\n",
    "        col = df.columns.get_loc(target_lang)\n",
    "    else:\n",
    "        col = target_lang_starting_col\n",
    "    \n",
    "    if is_one_lang_only:\n",
    "        target_lang = df.iloc[1,col] #for translate\n",
    "        write_result(component.name, col+1, 4, [['translating...']])\n",
    "        print(f'translate_cx({component.name}): translation target language = [{target_lang}]')\n",
    "        translated_texts = translate(input_texts, source_lang, target_lang, mime_type)\n",
    "        write_result(component.name,col+1, 4, translated_texts)        \n",
    "    else:\n",
    "        while col < len(df.columns):\n",
    "            target_lang = df.iloc[1,col] #for translate\n",
    "            write_result(component.name, col+1, 4, [['translating...']])\n",
    "            print(f'translate_cx({component.name}): translation target language = [{target_lang}]')\n",
    "            translated_texts = translate(input_texts, source_lang, target_lang, mime_type)\n",
    "            write_result(component.name,col+1, 4, translated_texts)\n",
    "            col += 1\n",
    "\n",
    "    \n",
    "############################\n",
    "def translate_cx(component):\n",
    "    start_time = timer()\n",
    "    print(f\"START:\\t\\ttranslate_cx({component})\")\n",
    "    df = read_sheet(component.name)\n",
    "    print(f'\\ntranslate_cx({component.name}): num rows in sheets: {len(df)}')\n",
    "    input_texts = get_source_texts_for_translate(component, df)\n",
    "    if len(input_texts) != 0: #something to translate\n",
    "        translate_and_write_to_sheets(component, df, input_texts, None, False)\n",
    "    print(f\"\\nCOMPLETED:\\ttranslate_cx({component}) in {timer()-start_time}s\\n\")\n",
    "    \n",
    "##########################################\n",
    "def translate_cx_by_lang(component, lang):\n",
    "    start_time = timer()\n",
    "    print(f\"START:\\t\\ttranslate_cx_by_lang({component}, {lang})\")\n",
    "    df = read_sheet(component.name)\n",
    "    print(f'\\ntranslate_cx_by_lang({component.name},{lang}): num rows in sheets: {len(df)}')\n",
    "    input_texts = get_source_texts_for_translate(component, df)\n",
    "    if len(input_texts) != 0: #something to translate\n",
    "        translate_and_write_to_sheets(component, df, input_texts, lang, True)\n",
    "    print(f\"\\nCOMPLETED:\\ttranslate_cx_by_lang({component}, {lang}) in {timer()-start_time}s\\n\")\n",
    "    \n",
    "############################################\n",
    "def translate_cx_from_lang(component, lang):\n",
    "    start_time = timer()\n",
    "    print(f\"START:\\t\\ttranslate_cx_from_lang({component}, {lang})\")\n",
    "    df = read_sheet(component.name)\n",
    "    print(f'\\ntranslate_cx_from_lang({component.name},{lang}): num rows in sheets: {len(df)}')\n",
    "    input_texts = get_source_texts_for_translate(component, df)\n",
    "    if len(input_texts) != 0: #something to translate\n",
    "        translate_and_write_to_sheets(component, df, input_texts, lang, False)\n",
    "    print(f\"\\nCOMPLETED:\\ttranslate_cx_from_lang({component}, {lang}) in {timer()-start_time}s\\n\")"
   ]
  },
  {
   "cell_type": "markdown",
   "id": "2ba7a548",
   "metadata": {
    "heading_collapsed": true
   },
   "source": [
    "# END"
   ]
  },
  {
   "cell_type": "code",
   "execution_count": null,
   "id": "6146edae",
   "metadata": {
    "hidden": true
   },
   "outputs": [],
   "source": [
    "print('Translation Notebook: RAN successfully to desired point')"
   ]
  }
 ],
 "metadata": {
  "kernelspec": {
   "display_name": "Python 3 (ipykernel)",
   "language": "python",
   "name": "python3"
  },
  "language_info": {
   "codemirror_mode": {
    "name": "ipython",
    "version": 3
   },
   "file_extension": ".py",
   "mimetype": "text/x-python",
   "name": "python",
   "nbconvert_exporter": "python",
   "pygments_lexer": "ipython3",
   "version": "3.7.3"
  },
  "toc": {
   "base_numbering": 1,
   "nav_menu": {},
   "number_sections": false,
   "sideBar": true,
   "skip_h1_title": false,
   "title_cell": "Table of Contents",
   "title_sidebar": "Contents",
   "toc_cell": false,
   "toc_position": {
    "height": "1133px",
    "left": "29px",
    "top": "110px",
    "width": "239.549px"
   },
   "toc_section_display": true,
   "toc_window_display": true
  },
  "varInspector": {
   "cols": {
    "lenName": 16,
    "lenType": 16,
    "lenVar": 40
   },
   "kernels_config": {
    "python": {
     "delete_cmd_postfix": "",
     "delete_cmd_prefix": "del ",
     "library": "var_list.py",
     "varRefreshCmd": "print(var_dic_list())"
    },
    "r": {
     "delete_cmd_postfix": ") ",
     "delete_cmd_prefix": "rm(",
     "library": "var_list.r",
     "varRefreshCmd": "cat(var_dic_list()) "
    }
   },
   "types_to_exclude": [
    "module",
    "function",
    "builtin_function_or_method",
    "instance",
    "_Feature"
   ],
   "window_display": false
  }
 },
 "nbformat": 4,
 "nbformat_minor": 5
}
